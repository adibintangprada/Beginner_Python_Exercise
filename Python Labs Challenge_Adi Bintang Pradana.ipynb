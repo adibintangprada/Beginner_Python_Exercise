{
 "cells": [
  {
   "cell_type": "markdown",
   "metadata": {},
   "source": [
    "# No. 1"
   ]
  },
  {
   "cell_type": "code",
   "execution_count": 12,
   "metadata": {},
   "outputs": [
    {
     "name": "stdout",
     "output_type": "stream",
     "text": [
      "circuit_power (230, 10) = 2300\n",
      "circuit_power (110, 3) = 330\n",
      "circuit_power (480, 20) = 9600\n"
     ]
    }
   ],
   "source": [
    "def circuit_power(x,y):\n",
    "    print('circuit_power',(x, y), '=' ,x * y)\n",
    "\n",
    "circuit_power(230, 10)\n",
    "circuit_power(110, 3)\n",
    "circuit_power(480, 20)"
   ]
  },
  {
   "cell_type": "code",
   "execution_count": 8,
   "metadata": {},
   "outputs": [
    {
     "name": "stdout",
     "output_type": "stream",
     "text": [
      "circuit_power(230, 10) = 2300\n",
      "circuit_power(110, 3) = 330\n",
      "circuit_power(480, 20) = 9600\n"
     ]
    }
   ],
   "source": [
    "circuit_power = lambda v, c:v*c\n",
    "\n",
    "print('circuit_power(230, 10) =', circuit_power(230,10))\n",
    "print('circuit_power(110, 3) =', circuit_power(110, 3))\n",
    "print('circuit_power(480, 20) =', circuit_power(480, 20))"
   ]
  },
  {
   "cell_type": "code",
   "execution_count": 9,
   "metadata": {},
   "outputs": [
    {
     "name": "stdout",
     "output_type": "stream",
     "text": [
      "circuit_power(230, 10) = 2300\n",
      "circuit_power(110, 3) = 330\n",
      "circuit_power(480, 20) = 9600\n"
     ]
    }
   ],
   "source": [
    "def circuit_power(v, c):\n",
    "    return v*c\n",
    "\n",
    "print('circuit_power(230, 10) =', circuit_power(230,10))\n",
    "print('circuit_power(110, 3) =', circuit_power(110, 3))\n",
    "print('circuit_power(480, 20) =', circuit_power(480, 20))"
   ]
  },
  {
   "cell_type": "markdown",
   "metadata": {},
   "source": [
    "# No. 2"
   ]
  },
  {
   "cell_type": "code",
   "execution_count": 39,
   "metadata": {},
   "outputs": [
    {
     "name": "stdout",
     "output_type": "stream",
     "text": [
      "comp ('AB', 'CD') = True\n",
      "comp ('ABC', 'DE') = False\n"
     ]
    }
   ],
   "source": [
    "def comp(x, y):\n",
    "    if len(x) == len(y):\n",
    "        print('comp', (x, y), '=', True)\n",
    "    else:\n",
    "        print('comp', (x, y), '=', False)\n",
    "\n",
    "comp('AB', 'CD')\n",
    "comp('ABC', 'DE')"
   ]
  },
  {
   "cell_type": "code",
   "execution_count": 12,
   "metadata": {},
   "outputs": [
    {
     "name": "stdout",
     "output_type": "stream",
     "text": [
      "comp(\"AB\", \"CD\") = True\n",
      "comp(\"ABC\", \"DE\") = False\n"
     ]
    }
   ],
   "source": [
    "def comp(txt1, txt2):\n",
    "    return len(txt1) == len(txt2)\n",
    "\n",
    "print('comp(\"AB\", \"CD\") =', comp('AB', 'CD'))\n",
    "print('comp(\"ABC\", \"DE\") =', comp('ABC', 'DE'))"
   ]
  },
  {
   "cell_type": "markdown",
   "metadata": {},
   "source": [
    "# No. 3"
   ]
  },
  {
   "cell_type": "code",
   "execution_count": 15,
   "metadata": {},
   "outputs": [
    {
     "name": "stdout",
     "output_type": "stream",
     "text": [
      "name_shuffle(\"Donald Trump\") -> Trump Donald\n",
      "name_shuffle(\"Rosie ODonell\") -> ODonell Rosie\n",
      "name_shuffle(\"Seymour Butts\") -> Butts Seymour\n"
     ]
    }
   ],
   "source": [
    "def nameShuffle(str):\n",
    "    return ' '.join(reversed(str.split(' ')))\n",
    "\n",
    "print('name_shuffle(\"Donald Trump\") ->', nameShuffle('Donald Trump'))\n",
    "print('name_shuffle(\"Rosie ODonell\") ->', nameShuffle('Rosie ODonell'))\n",
    "print('name_shuffle(\"Seymour Butts\") ->', nameShuffle('Seymour Butts'))"
   ]
  },
  {
   "cell_type": "markdown",
   "metadata": {},
   "source": [
    "# No. 4"
   ]
  },
  {
   "cell_type": "code",
   "execution_count": 33,
   "metadata": {},
   "outputs": [
    {
     "name": "stdout",
     "output_type": "stream",
     "text": [
      "missing_num [1, 2, 3, 4, 6, 7, 8, 9, 10] = 5\n",
      "missing_num [7, 2, 3, 6, 5, 9, 1, 4, 8] = 10\n",
      "missing_num [10, 5, 1, 2, 4, 6, 8, 3, 9] = 7\n"
     ]
    }
   ],
   "source": [
    "def getMissingNo(a, n):\n",
    "    i, total = 0, 1\n",
    "    \n",
    "    for i in range(2, n + 2):\n",
    "        total += i\n",
    "        total -= a[i - 2]\n",
    "    return total\n",
    "\n",
    "x = [1, 2, 3, 4, 6, 7, 8, 9, 10]\n",
    "y = [7, 2, 3, 6, 5, 9, 1, 4, 8]\n",
    "z = [10, 5, 1, 2, 4, 6, 8, 3, 9]\n",
    "\n",
    "print('missing_num', (x), '=', getMissingNo(x, len(x)))\n",
    "print('missing_num', (y), '=', getMissingNo(y, len(y)))\n",
    "print('missing_num', (z), '=', getMissingNo(z, len(z)))"
   ]
  },
  {
   "cell_type": "code",
   "execution_count": 21,
   "metadata": {},
   "outputs": [
    {
     "name": "stdout",
     "output_type": "stream",
     "text": [
      "missing_num [1, 2, 3, 4, 6, 7, 8, 9, 10] = 5\n",
      "missing_num [7, 2, 3, 6, 5, 9, 1, 4, 8] = 10\n",
      "missing_num [10, 5, 1, 2, 4, 6, 8, 3, 9] = 7\n"
     ]
    }
   ],
   "source": [
    "def missing_num(lst):\n",
    "    return 55 - sum(lst)\n",
    "\n",
    "print('missing_num [1, 2, 3, 4, 6, 7, 8, 9, 10] =', missing_num([1, 2, 3, 4, 6, 7, 8, 9, 10]))\n",
    "print('missing_num [7, 2, 3, 6, 5, 9, 1, 4, 8] =', missing_num([7, 2, 3, 6, 5, 9, 1, 4, 8]))\n",
    "print('missing_num [10, 5, 1, 2, 4, 6, 8, 3, 9] =', missing_num([10, 5, 1, 2, 4, 6, 8, 3, 9]))"
   ]
  },
  {
   "cell_type": "markdown",
   "metadata": {},
   "source": [
    "# No. 5"
   ]
  },
  {
   "cell_type": "code",
   "execution_count": 23,
   "metadata": {},
   "outputs": [
    {
     "name": "stdout",
     "output_type": "stream",
     "text": [
      "add(\"111\", \"111\") = 222\n",
      "add(\"10\", \"80\") = 90\n",
      "add(\"\", \"20\") = Invalid Operation\n"
     ]
    }
   ],
   "source": [
    "def add(n1, n2):\n",
    "    if n1 and n2:\n",
    "        return str(int(n1)+int(n2))\n",
    "    else:\n",
    "        return \"Invalid Operation\"\n",
    "\n",
    "print('add(\"111\", \"111\") =', add('111', '111'))\n",
    "print('add(\"10\", \"80\") =', add('10', '80'))\n",
    "print('add(\"\", \"20\") =', add('', '20'))"
   ]
  },
  {
   "cell_type": "markdown",
   "metadata": {},
   "source": [
    "# No. 6"
   ]
  },
  {
   "cell_type": "code",
   "execution_count": 26,
   "metadata": {},
   "outputs": [
    {
     "name": "stdout",
     "output_type": "stream",
     "text": [
      "word_builder([\"g\", \"e\", \"o\"], [1, 0, 2]) = ego\n",
      "word_builder([\"e\", \"t\", \"s\", \"t\"], [3, 0, 2, 1]) = test\n"
     ]
    }
   ],
   "source": [
    "def word_builder(ltr, pos):\n",
    "    return ''.join(ltr[i] for i in pos)\n",
    "\n",
    "print('word_builder([\"g\", \"e\", \"o\"], [1, 0, 2]) =', word_builder([\"g\", \"e\", \"o\"], [1, 0, 2]))\n",
    "print('word_builder([\"e\", \"t\", \"s\", \"t\"], [3, 0, 2, 1]) =', word_builder([\"e\", \"t\", \"s\", \"t\"], [3, 0, 2, 1]))"
   ]
  },
  {
   "cell_type": "markdown",
   "metadata": {},
   "source": [
    "# No. 7"
   ]
  },
  {
   "cell_type": "code",
   "execution_count": 27,
   "metadata": {},
   "outputs": [
    {
     "name": "stdout",
     "output_type": "stream",
     "text": [
      "move(\"hello\") = ifmmp\n",
      "move(\"bye\") = czf\n",
      "move(\"welcome\") = xfmdpnf\n"
     ]
    }
   ],
   "source": [
    "def move(word):\n",
    "    return ''.join(chr(ord(i) + 1) for i in word)\n",
    "\n",
    "print('move(\"hello\") =', move('hello'))\n",
    "print('move(\"bye\") =', move('bye'))\n",
    "print('move(\"welcome\") =', move('welcome'))"
   ]
  },
  {
   "cell_type": "markdown",
   "metadata": {},
   "source": [
    "# No. 8"
   ]
  },
  {
   "cell_type": "code",
   "execution_count": 30,
   "metadata": {},
   "outputs": [
    {
     "name": "stdout",
     "output_type": "stream",
     "text": [
      "consecutive_combo([7, 4, 5, 1], [2, 3, 6]) = True\n",
      "consecutive_combo([1, 4, 6, 5], [2, 7, 8, 9]) = False\n",
      "consecutive_combo([1, 4, 5, 6], [2, 3, 7, 8, 10]) = False\n",
      "consecutive_combo([44, 46], [45]) = True\n"
     ]
    }
   ],
   "source": [
    "def consecutive_combo(lst1, lst2):\n",
    "    lst3 = lst1 + lst2\n",
    "    return max(lst3) - min(lst3) == len(lst3) -1\n",
    "\n",
    "print('consecutive_combo([7, 4, 5, 1], [2, 3, 6]) =', consecutive_combo([7, 4, 5, 1], [2, 3, 6]))\n",
    "print('consecutive_combo([1, 4, 6, 5], [2, 7, 8, 9]) =', consecutive_combo([1, 4, 6, 5], [2, 7, 8, 9]))\n",
    "print('consecutive_combo([1, 4, 5, 6], [2, 3, 7, 8, 10]) =', consecutive_combo([1, 4, 5, 6], [2, 3, 7, 8, 10]))\n",
    "print('consecutive_combo([44, 46], [45]) =', consecutive_combo([44, 46], [45]))"
   ]
  },
  {
   "cell_type": "markdown",
   "metadata": {},
   "source": [
    "# No. 9"
   ]
  },
  {
   "cell_type": "code",
   "execution_count": 32,
   "metadata": {},
   "outputs": [
    {
     "name": "stdout",
     "output_type": "stream",
     "text": [
      "next_prime(12) = 13\n",
      "next_prime(24) = 29\n",
      "next_prime(11) = 11\n"
     ]
    }
   ],
   "source": [
    "def next_prime(num):\n",
    "    while [i for i in range(2, num) if num%i==0]:\n",
    "        num+=1\n",
    "    return num\n",
    "\n",
    "print('next_prime(12) =', next_prime(12))\n",
    "print('next_prime(24) =', next_prime(29))\n",
    "print('next_prime(11) =', next_prime(11))"
   ]
  },
  {
   "cell_type": "markdown",
   "metadata": {},
   "source": [
    "# No. 10"
   ]
  },
  {
   "cell_type": "code",
   "execution_count": 19,
   "metadata": {},
   "outputs": [
    {
     "name": "stdout",
     "output_type": "stream",
     "text": [
      "calc_age 65 = 23725\n",
      "calc_age 0 = 0\n",
      "calc_age 20 = 7300\n"
     ]
    }
   ],
   "source": [
    "def calc_age(x):\n",
    "    print('calc_age', (x), '=', x * 365)\n",
    "\n",
    "calc_age(65)\n",
    "calc_age(0)\n",
    "calc_age(20)"
   ]
  },
  {
   "cell_type": "code",
   "execution_count": 34,
   "metadata": {},
   "outputs": [
    {
     "name": "stdout",
     "output_type": "stream",
     "text": [
      "calc_age(65) = 23725\n",
      "calc_age(0) = 0\n",
      "calc_age(20) = 7300\n"
     ]
    }
   ],
   "source": [
    "calc_age = lambda n: n*365\n",
    "\n",
    "print('calc_age(65) =', calc_age(65))\n",
    "print('calc_age(0) =', calc_age(0))\n",
    "print('calc_age(20) =', calc_age(20))"
   ]
  },
  {
   "cell_type": "markdown",
   "metadata": {},
   "source": [
    "# No. 11"
   ]
  },
  {
   "cell_type": "code",
   "execution_count": 22,
   "metadata": {},
   "outputs": [
    {
     "name": "stdout",
     "output_type": "stream",
     "text": [
      "animals (2, 3, 5) = 36\n",
      "animals (1, 2, 3) = 22\n",
      "animals (5, 2, 8) = 50\n"
     ]
    }
   ],
   "source": [
    "def animals(x, y, z):\n",
    "    print('animals', (x, y, z), '=', (x*2)+(y*4)+(z*4))\n",
    "\n",
    "animals(2, 3, 5)\n",
    "animals(1, 2, 3)\n",
    "animals(5, 2, 8)"
   ]
  },
  {
   "cell_type": "code",
   "execution_count": 35,
   "metadata": {},
   "outputs": [
    {
     "name": "stdout",
     "output_type": "stream",
     "text": [
      "animals(2, 3, 5) = 36\n",
      "animals(1, 2, 3) = 22\n",
      "animals(5, 2, 8) = 50\n"
     ]
    }
   ],
   "source": [
    "animals = lambda c, m, p: c*2 + m*4 + p*4\n",
    "\n",
    "print('animals(2, 3, 5) =', animals(2, 3, 5))\n",
    "print('animals(1, 2, 3) =', animals(1, 2, 3))\n",
    "print('animals(5, 2, 8) =', animals(5, 2, 8))"
   ]
  },
  {
   "cell_type": "markdown",
   "metadata": {},
   "source": [
    "# No. 12"
   ]
  },
  {
   "cell_type": "code",
   "execution_count": 36,
   "metadata": {},
   "outputs": [
    {
     "name": "stdout",
     "output_type": "stream",
     "text": [
      "valid(\"1234\") = True\n",
      "valid(\"45135\") = False\n",
      "valid(\"89abc1\") = False\n",
      "valid(\"900876\") = True\n",
      "valid(\" 4983\") = False\n"
     ]
    }
   ],
   "source": [
    "def valid(txt):\n",
    "    return txt.isnumeric() and len(txt) in [4, 6]\n",
    "\n",
    "print('valid(\"1234\") =', valid(\"1234\"))\n",
    "print('valid(\"45135\") =', valid(\"45135\"))\n",
    "print('valid(\"89abc1\") =', valid(\"89abc1\"))\n",
    "print('valid(\"900876\") =', valid(\"900876\"))\n",
    "print('valid(\" 4983\") =', valid(\" 4983\"))"
   ]
  },
  {
   "cell_type": "markdown",
   "metadata": {},
   "source": [
    "# No. 13"
   ]
  },
  {
   "cell_type": "code",
   "execution_count": 36,
   "metadata": {},
   "outputs": [
    {
     "name": "stdout",
     "output_type": "stream",
     "text": [
      "count_vowels celebration = 5\n",
      "count_vowels palm = 1\n",
      "count_vowels prediction = 4\n"
     ]
    }
   ],
   "source": [
    "def count_vowels(str):\n",
    "    count = 0\n",
    "    vowel = set('aiueo')\n",
    "    \n",
    "    for alphabet in str:\n",
    "        if alphabet in vowel:\n",
    "            count = count + 1\n",
    "    \n",
    "    print('count_vowels', (str), '=', count)\n",
    "\n",
    "count_vowels('celebration')\n",
    "count_vowels('palm')\n",
    "count_vowels('prediction')"
   ]
  },
  {
   "cell_type": "code",
   "execution_count": 37,
   "metadata": {},
   "outputs": [
    {
     "name": "stdout",
     "output_type": "stream",
     "text": [
      "count_vowels(\"celebration\") = 5\n",
      "count_vowels(\"palm\") = 1\n",
      "count_vowels(\"prediction\") = 4\n"
     ]
    }
   ],
   "source": [
    "def count_vowels(txt):\n",
    "    return sum([1 for x in txt.lower() if x in 'aiueo'])\n",
    "\n",
    "print('count_vowels(\"celebration\") =', count_vowels('celebration'))\n",
    "print('count_vowels(\"palm\") =', count_vowels('palm'))\n",
    "print('count_vowels(\"prediction\") =', count_vowels('prediction'))"
   ]
  },
  {
   "cell_type": "markdown",
   "metadata": {},
   "source": [
    "# No. 14"
   ]
  },
  {
   "cell_type": "code",
   "execution_count": 38,
   "metadata": {},
   "outputs": [
    {
     "name": "stdout",
     "output_type": "stream",
     "text": [
      "fact_of_fact(4) = 288\n",
      "fact_of_fact(5) = 34560\n",
      "fact_of_fact(6) = 24883200\n"
     ]
    }
   ],
   "source": [
    "def fact_of_fact(n):\n",
    "    f = count = 1\n",
    "    for i in range(1, n + 1):\n",
    "        f *= i\n",
    "        count *= f\n",
    "    return count\n",
    "\n",
    "print('fact_of_fact(4) =', fact_of_fact(4))\n",
    "print('fact_of_fact(5) =', fact_of_fact(5))\n",
    "print('fact_of_fact(6) =', fact_of_fact(6))"
   ]
  }
 ],
 "metadata": {
  "kernelspec": {
   "display_name": "Python 3",
   "language": "python",
   "name": "python3"
  },
  "language_info": {
   "codemirror_mode": {
    "name": "ipython",
    "version": 3
   },
   "file_extension": ".py",
   "mimetype": "text/x-python",
   "name": "python",
   "nbconvert_exporter": "python",
   "pygments_lexer": "ipython3",
   "version": "3.8.5"
  }
 },
 "nbformat": 4,
 "nbformat_minor": 4
}
